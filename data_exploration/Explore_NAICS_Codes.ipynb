{
 "cells": [
  {
   "cell_type": "code",
   "execution_count": 1,
   "id": "79e8aed1-4407-45d6-b640-dcbf473739fd",
   "metadata": {
    "tags": []
   },
   "outputs": [],
   "source": [
    "import json\n",
    "import os\n",
    "import re\n",
    "\n",
    "import pandas as pd"
   ]
  },
  {
   "cell_type": "code",
   "execution_count": 2,
   "id": "c4b5a543-12f7-4d2a-94ef-e9593e1cb61b",
   "metadata": {},
   "outputs": [
    {
     "data": {
      "text/plain": [
       "['2-6_digit_2022_Codes.xlsx',\n",
       " '2022_NAICS_Cross_References.xlsx',\n",
       " '2022_NAICS_Descriptions.xlsx',\n",
       " '2022_NAICS_Index_File.xlsx',\n",
       " '2022_NAICS_Manual.pdf',\n",
       " '2022_NAICS_Structure.xlsx',\n",
       " '2022_NAICS_Structure_Summary_Table.xlsx',\n",
       " '6-digit_2022_Codes.xlsx']"
      ]
     },
     "execution_count": 2,
     "metadata": {},
     "output_type": "execute_result"
    }
   ],
   "source": [
    "data_dir = \"../data/NAICS/\"\n",
    "naics_datafiles = os.listdir(data_dir)\n",
    "naics_2022_files = sorted([f for f in naics_datafiles if \"2022\" in f])\n",
    "naics_2017_files = sorted([f for f in naics_datafiles if \"2017\" in f])\n",
    "naics_2022_files "
   ]
  },
  {
   "cell_type": "code",
   "execution_count": 3,
   "id": "1896f521",
   "metadata": {},
   "outputs": [],
   "source": [
    "six_digit_codes_filename = data_dir + naics_2022_files[-1]\n",
    "two_six_digit_codes_filename = data_dir + naics_2022_files[0]"
   ]
  },
  {
   "cell_type": "code",
   "execution_count": 4,
   "id": "60b1fdec",
   "metadata": {},
   "outputs": [],
   "source": [
    "# labmda to replace multiple spaces with a single space, remove 2022, \n",
    "# strip leading and trailing spaces, replace spaces with underscores, remove periods\n",
    "clean_2022_columns = lambda x: re.sub(r'\\s+', ' ', x).replace('2022', '').strip().replace(' ', '_').replace('.', '')"
   ]
  },
  {
   "attachments": {},
   "cell_type": "markdown",
   "id": "8e433b94",
   "metadata": {},
   "source": [
    "## 6 Digit NAICS Codes"
   ]
  },
  {
   "attachments": {},
   "cell_type": "markdown",
   "id": "407869e9",
   "metadata": {},
   "source": [
    "### Load data, drop NaN rows/columns, and clean column names"
   ]
  },
  {
   "cell_type": "code",
   "execution_count": 5,
   "id": "6c6f1adf",
   "metadata": {},
   "outputs": [
    {
     "data": {
      "text/html": [
       "<div>\n",
       "<style scoped>\n",
       "    .dataframe tbody tr th:only-of-type {\n",
       "        vertical-align: middle;\n",
       "    }\n",
       "\n",
       "    .dataframe tbody tr th {\n",
       "        vertical-align: top;\n",
       "    }\n",
       "\n",
       "    .dataframe thead th {\n",
       "        text-align: right;\n",
       "    }\n",
       "</style>\n",
       "<table border=\"1\" class=\"dataframe\">\n",
       "  <thead>\n",
       "    <tr style=\"text-align: right;\">\n",
       "      <th></th>\n",
       "      <th>NAICS_Code</th>\n",
       "      <th>NAICS_Title</th>\n",
       "    </tr>\n",
       "  </thead>\n",
       "  <tbody>\n",
       "    <tr>\n",
       "      <th>1</th>\n",
       "      <td>111110</td>\n",
       "      <td>Soybean Farming</td>\n",
       "    </tr>\n",
       "    <tr>\n",
       "      <th>2</th>\n",
       "      <td>111120</td>\n",
       "      <td>Oilseed (except Soybean) Farming</td>\n",
       "    </tr>\n",
       "    <tr>\n",
       "      <th>3</th>\n",
       "      <td>111130</td>\n",
       "      <td>Dry Pea and Bean Farming</td>\n",
       "    </tr>\n",
       "    <tr>\n",
       "      <th>4</th>\n",
       "      <td>111140</td>\n",
       "      <td>Wheat Farming</td>\n",
       "    </tr>\n",
       "    <tr>\n",
       "      <th>5</th>\n",
       "      <td>111150</td>\n",
       "      <td>Corn Farming</td>\n",
       "    </tr>\n",
       "  </tbody>\n",
       "</table>\n",
       "</div>"
      ],
      "text/plain": [
       "  NAICS_Code                        NAICS_Title\n",
       "1     111110                    Soybean Farming\n",
       "2     111120  Oilseed (except Soybean) Farming \n",
       "3     111130          Dry Pea and Bean Farming \n",
       "4     111140                      Wheat Farming\n",
       "5     111150                      Corn Farming "
      ]
     },
     "execution_count": 5,
     "metadata": {},
     "output_type": "execute_result"
    }
   ],
   "source": [
    "dtype = {'2022 NAICS Code': 'str', '2022 NAICS Title': 'str'}\n",
    "df_6_digit_2022 = pd.read_excel(six_digit_codes_filename, dtype=dtype).dropna(how=\"all\")\n",
    "df_6_digit_2022 = df_6_digit_2022.drop(columns = ['Unnamed: 2'])\n",
    "df_6_digit_2022.rename(columns = clean_2022_columns, inplace=True)\n",
    "df_6_digit_2022.head()"
   ]
  },
  {
   "attachments": {},
   "cell_type": "markdown",
   "id": "ad470db0",
   "metadata": {},
   "source": [
    "### Confirm that all NAICS Codes in this file are 6 digits"
   ]
  },
  {
   "cell_type": "code",
   "execution_count": 6,
   "id": "59b856fb",
   "metadata": {},
   "outputs": [],
   "source": [
    "assert df_6_digit_2022['NAICS_Code'].str.len().unique() == [6]"
   ]
  },
  {
   "attachments": {},
   "cell_type": "markdown",
   "id": "458e603b",
   "metadata": {},
   "source": [
    "## 2-6 Digit NAICS Codes"
   ]
  },
  {
   "cell_type": "code",
   "execution_count": 7,
   "id": "d1c3fa10",
   "metadata": {},
   "outputs": [
    {
     "name": "stdout",
     "output_type": "stream",
     "text": [
      "Index(['Seq. No.', '2022 NAICS US   Code', '2022 NAICS US Title', 'Unnamed: 3',\n",
      "       'Unnamed: 4'],\n",
      "      dtype='object')\n"
     ]
    },
    {
     "data": {
      "text/html": [
       "<div>\n",
       "<style scoped>\n",
       "    .dataframe tbody tr th:only-of-type {\n",
       "        vertical-align: middle;\n",
       "    }\n",
       "\n",
       "    .dataframe tbody tr th {\n",
       "        vertical-align: top;\n",
       "    }\n",
       "\n",
       "    .dataframe thead th {\n",
       "        text-align: right;\n",
       "    }\n",
       "</style>\n",
       "<table border=\"1\" class=\"dataframe\">\n",
       "  <thead>\n",
       "    <tr style=\"text-align: right;\">\n",
       "      <th></th>\n",
       "      <th>Seq_No</th>\n",
       "      <th>NAICS_US_Code</th>\n",
       "      <th>NAICS_US_Title</th>\n",
       "    </tr>\n",
       "  </thead>\n",
       "  <tbody>\n",
       "    <tr>\n",
       "      <th>1</th>\n",
       "      <td>1.0</td>\n",
       "      <td>11</td>\n",
       "      <td>Agriculture, Forestry, Fishing and Hunting</td>\n",
       "    </tr>\n",
       "    <tr>\n",
       "      <th>2</th>\n",
       "      <td>2.0</td>\n",
       "      <td>111</td>\n",
       "      <td>Crop Production</td>\n",
       "    </tr>\n",
       "    <tr>\n",
       "      <th>3</th>\n",
       "      <td>3.0</td>\n",
       "      <td>1111</td>\n",
       "      <td>Oilseed and Grain Farming</td>\n",
       "    </tr>\n",
       "    <tr>\n",
       "      <th>4</th>\n",
       "      <td>4.0</td>\n",
       "      <td>11111</td>\n",
       "      <td>Soybean Farming</td>\n",
       "    </tr>\n",
       "    <tr>\n",
       "      <th>5</th>\n",
       "      <td>5.0</td>\n",
       "      <td>111110</td>\n",
       "      <td>Soybean Farming</td>\n",
       "    </tr>\n",
       "  </tbody>\n",
       "</table>\n",
       "</div>"
      ],
      "text/plain": [
       "   Seq_No NAICS_US_Code                              NAICS_US_Title\n",
       "1     1.0            11  Agriculture, Forestry, Fishing and Hunting\n",
       "2     2.0           111                             Crop Production\n",
       "3     3.0          1111                   Oilseed and Grain Farming\n",
       "4     4.0         11111                             Soybean Farming\n",
       "5     5.0        111110                             Soybean Farming"
      ]
     },
     "execution_count": 7,
     "metadata": {},
     "output_type": "execute_result"
    }
   ],
   "source": [
    "dtype = {'2022 NAICS US   Code': 'str', '2022 NAICS US Title': 'str'}\n",
    "df_2_6_digit_2022 = pd.read_excel(two_six_digit_codes_filename, dtype=dtype).dropna(how=\"all\")\n",
    "print(df_2_6_digit_2022.columns)\n",
    "jank_colunms = ['Unnamed: 3', 'Unnamed: 4']\n",
    "df_2_6_digit_2022.drop(columns = jank_colunms, inplace=True)\n",
    "df_2_6_digit_2022.rename(columns = clean_2022_columns, inplace=True)\n",
    "df_2_6_digit_2022.head()"
   ]
  },
  {
   "attachments": {},
   "cell_type": "markdown",
   "id": "9578131f",
   "metadata": {},
   "source": [
    "Build a lookup dictionary to find the titles and sub-codes from a NAICS code:"
   ]
  },
  {
   "cell_type": "code",
   "execution_count": 8,
   "id": "183afe94",
   "metadata": {},
   "outputs": [],
   "source": [
    "naics_lookup = df_2_6_digit_2022.set_index('NAICS_US_Code')['NAICS_US_Title'].to_dict()"
   ]
  },
  {
   "cell_type": "code",
   "execution_count": 9,
   "id": "4589f96b",
   "metadata": {},
   "outputs": [
    {
     "name": "stdout",
     "output_type": "stream",
     "text": [
      "11: Agriculture, Forestry, Fishing and Hunting\n",
      "111: Crop Production\n",
      "1111: Oilseed and Grain Farming\n",
      "11111: Soybean Farming\n",
      "111110: Soybean Farming\n"
     ]
    }
   ],
   "source": [
    "sample_code = '111110'\n",
    "for i in range(1, len(sample_code)+1):\n",
    "    code = sample_code[:i]\n",
    "    desc = naics_lookup.get(sample_code[:i])\n",
    "    if desc is not None:\n",
    "        print(f'{code}: {desc}')\n"
   ]
  },
  {
   "cell_type": "code",
   "execution_count": 10,
   "id": "3743d9b9",
   "metadata": {},
   "outputs": [],
   "source": [
    "with open(f'{data_dir}naics_lookup.json', 'w') as f:\n",
    "    json.dump(naics_lookup, f)"
   ]
  },
  {
   "cell_type": "code",
   "execution_count": null,
   "id": "2eb7cf94",
   "metadata": {},
   "outputs": [],
   "source": []
  }
 ],
 "metadata": {
  "kernelspec": {
   "display_name": "Python 3 (ipykernel)",
   "language": "python",
   "name": "python3"
  },
  "language_info": {
   "codemirror_mode": {
    "name": "ipython",
    "version": 3
   },
   "file_extension": ".py",
   "mimetype": "text/x-python",
   "name": "python",
   "nbconvert_exporter": "python",
   "pygments_lexer": "ipython3",
   "version": "3.11.0"
  }
 },
 "nbformat": 4,
 "nbformat_minor": 5
}
