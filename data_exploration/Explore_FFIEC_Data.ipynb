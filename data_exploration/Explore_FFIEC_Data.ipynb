{
 "cells": [
  {
   "cell_type": "code",
   "execution_count": 1,
   "id": "c83f46c5-e37a-49e0-9ada-3a50bcee22d2",
   "metadata": {},
   "outputs": [],
   "source": [
    "import pandas as pd\n",
    "import numpy as np\n",
    "import os"
   ]
  },
  {
   "cell_type": "code",
   "execution_count": null,
   "id": "24fcf8bd-6fd3-410c-8b5e-ad43fc962f35",
   "metadata": {},
   "outputs": [],
   "source": []
  },
  {
   "cell_type": "code",
   "execution_count": 2,
   "id": "2c8f5a25-aa49-4791-8799-ec769b35148b",
   "metadata": {
    "tags": []
   },
   "outputs": [],
   "source": [
    "nrows = None # Integer number of rows to load from each file. Use None to read in all rows.\n",
    "data_dir = '../data/FFIEC/'"
   ]
  },
  {
   "cell_type": "code",
   "execution_count": 4,
   "id": "e9a6f272-99c6-4c6a-9cbb-491c7a7987b8",
   "metadata": {},
   "outputs": [
    {
     "name": "stdout",
     "output_type": "stream",
     "text": [
      "Number of files: 82\n"
     ]
    }
   ],
   "source": [
    "# Build list of data files:\n",
    "sub_directories = os.listdir(data_dir)\n",
    "data_files = []\n",
    "for sub_dir in sub_directories:\n",
    "    files = os.listdir(data_dir + sub_dir)\n",
    "    for file in files:\n",
    "        # keep only txt files\n",
    "        if file[-3:] == 'txt' and 'Readme' not in file:\n",
    "            data_files.append(data_dir + sub_dir + '/' + file)\n",
    "\n",
    "print(f'Number of files: {len(data_files)}')\n",
    "# for data_file in data_files:\n",
    "#     print(data_file)        "
   ]
  },
  {
   "cell_type": "code",
   "execution_count": 5,
   "id": "bca8b7b5-b429-4d37-b504-ff468fdfe63a",
   "metadata": {},
   "outputs": [
    {
     "name": "stdout",
     "output_type": "stream",
     "text": [
      "The target column (UBPR1763) was found in ../data/FFIEC/FFIEC CDR Bulk All UBPR Ratios 2020/FFIEC CDR UBPR Ratios Concept Not In Presentation 2020.txt\n"
     ]
    }
   ],
   "source": [
    "target_column = 'UBPR1763'\n",
    "found = False\n",
    "for data_file in data_files:\n",
    "    with open(data_file) as f:\n",
    "        for _ in range(10):\n",
    "            line = f.readline()\n",
    "            if target_column in line:\n",
    "                print(f'The target column ({target_column}) was found in {data_file}')\n",
    "                target_file = data_file"
   ]
  },
  {
   "cell_type": "code",
   "execution_count": 6,
   "id": "1ef079f0-650a-4613-95c1-2777a9d7dc1d",
   "metadata": {},
   "outputs": [],
   "source": [
    "df = pd.read_csv(target_file, delimiter='\\t', low_memory=False, skiprows=[1])"
   ]
  },
  {
   "cell_type": "code",
   "execution_count": 7,
   "id": "a3ebecc2-8fee-4882-8b80-c13e4a9ed03f",
   "metadata": {},
   "outputs": [
    {
     "ename": "KeyError",
     "evalue": "False",
     "output_type": "error",
     "traceback": [
      "\u001b[1;31m---------------------------------------------------------------------------\u001b[0m",
      "\u001b[1;31mKeyError\u001b[0m                                  Traceback (most recent call last)",
      "File \u001b[1;32m~\\Projects\\ppp-loans-ds4a\\.venv\\Lib\\site-packages\\pandas\\core\\indexes\\base.py:3652\u001b[0m, in \u001b[0;36mIndex.get_loc\u001b[1;34m(self, key)\u001b[0m\n\u001b[0;32m   3651\u001b[0m \u001b[38;5;28;01mtry\u001b[39;00m:\n\u001b[1;32m-> 3652\u001b[0m     \u001b[38;5;28;01mreturn\u001b[39;00m \u001b[38;5;28;43mself\u001b[39;49m\u001b[38;5;241;43m.\u001b[39;49m\u001b[43m_engine\u001b[49m\u001b[38;5;241;43m.\u001b[39;49m\u001b[43mget_loc\u001b[49m\u001b[43m(\u001b[49m\u001b[43mcasted_key\u001b[49m\u001b[43m)\u001b[49m\n\u001b[0;32m   3653\u001b[0m \u001b[38;5;28;01mexcept\u001b[39;00m \u001b[38;5;167;01mKeyError\u001b[39;00m \u001b[38;5;28;01mas\u001b[39;00m err:\n",
      "File \u001b[1;32m~\\Projects\\ppp-loans-ds4a\\.venv\\Lib\\site-packages\\pandas\\_libs\\index.pyx:147\u001b[0m, in \u001b[0;36mpandas._libs.index.IndexEngine.get_loc\u001b[1;34m()\u001b[0m\n",
      "File \u001b[1;32m~\\Projects\\ppp-loans-ds4a\\.venv\\Lib\\site-packages\\pandas\\_libs\\index.pyx:176\u001b[0m, in \u001b[0;36mpandas._libs.index.IndexEngine.get_loc\u001b[1;34m()\u001b[0m\n",
      "File \u001b[1;32mpandas\\_libs\\hashtable_class_helper.pxi:7080\u001b[0m, in \u001b[0;36mpandas._libs.hashtable.PyObjectHashTable.get_item\u001b[1;34m()\u001b[0m\n",
      "File \u001b[1;32mpandas\\_libs\\hashtable_class_helper.pxi:7088\u001b[0m, in \u001b[0;36mpandas._libs.hashtable.PyObjectHashTable.get_item\u001b[1;34m()\u001b[0m\n",
      "\u001b[1;31mKeyError\u001b[0m: False",
      "\nThe above exception was the direct cause of the following exception:\n",
      "\u001b[1;31mKeyError\u001b[0m                                  Traceback (most recent call last)",
      "Cell \u001b[1;32mIn[7], line 1\u001b[0m\n\u001b[1;32m----> 1\u001b[0m \u001b[43mdf\u001b[49m\u001b[43m[\u001b[49m\u001b[38;5;124;43m'\u001b[39;49m\u001b[38;5;124;43mID RSSD\u001b[39;49m\u001b[38;5;124;43m'\u001b[39;49m\u001b[38;5;241;43m==\u001b[39;49m\u001b[38;5;241;43m480228\u001b[39;49m\u001b[43m]\u001b[49m \u001b[38;5;66;03m# ID RSSD 480228 is Bank of America\u001b[39;00m\n",
      "File \u001b[1;32m~\\Projects\\ppp-loans-ds4a\\.venv\\Lib\\site-packages\\pandas\\core\\frame.py:3761\u001b[0m, in \u001b[0;36mDataFrame.__getitem__\u001b[1;34m(self, key)\u001b[0m\n\u001b[0;32m   3759\u001b[0m \u001b[38;5;28;01mif\u001b[39;00m \u001b[38;5;28mself\u001b[39m\u001b[38;5;241m.\u001b[39mcolumns\u001b[38;5;241m.\u001b[39mnlevels \u001b[38;5;241m>\u001b[39m \u001b[38;5;241m1\u001b[39m:\n\u001b[0;32m   3760\u001b[0m     \u001b[38;5;28;01mreturn\u001b[39;00m \u001b[38;5;28mself\u001b[39m\u001b[38;5;241m.\u001b[39m_getitem_multilevel(key)\n\u001b[1;32m-> 3761\u001b[0m indexer \u001b[38;5;241m=\u001b[39m \u001b[38;5;28;43mself\u001b[39;49m\u001b[38;5;241;43m.\u001b[39;49m\u001b[43mcolumns\u001b[49m\u001b[38;5;241;43m.\u001b[39;49m\u001b[43mget_loc\u001b[49m\u001b[43m(\u001b[49m\u001b[43mkey\u001b[49m\u001b[43m)\u001b[49m\n\u001b[0;32m   3762\u001b[0m \u001b[38;5;28;01mif\u001b[39;00m is_integer(indexer):\n\u001b[0;32m   3763\u001b[0m     indexer \u001b[38;5;241m=\u001b[39m [indexer]\n",
      "File \u001b[1;32m~\\Projects\\ppp-loans-ds4a\\.venv\\Lib\\site-packages\\pandas\\core\\indexes\\base.py:3654\u001b[0m, in \u001b[0;36mIndex.get_loc\u001b[1;34m(self, key)\u001b[0m\n\u001b[0;32m   3652\u001b[0m     \u001b[38;5;28;01mreturn\u001b[39;00m \u001b[38;5;28mself\u001b[39m\u001b[38;5;241m.\u001b[39m_engine\u001b[38;5;241m.\u001b[39mget_loc(casted_key)\n\u001b[0;32m   3653\u001b[0m \u001b[38;5;28;01mexcept\u001b[39;00m \u001b[38;5;167;01mKeyError\u001b[39;00m \u001b[38;5;28;01mas\u001b[39;00m err:\n\u001b[1;32m-> 3654\u001b[0m     \u001b[38;5;28;01mraise\u001b[39;00m \u001b[38;5;167;01mKeyError\u001b[39;00m(key) \u001b[38;5;28;01mfrom\u001b[39;00m \u001b[38;5;21;01merr\u001b[39;00m\n\u001b[0;32m   3655\u001b[0m \u001b[38;5;28;01mexcept\u001b[39;00m \u001b[38;5;167;01mTypeError\u001b[39;00m:\n\u001b[0;32m   3656\u001b[0m     \u001b[38;5;66;03m# If we have a listlike key, _check_indexing_error will raise\u001b[39;00m\n\u001b[0;32m   3657\u001b[0m     \u001b[38;5;66;03m#  InvalidIndexError. Otherwise we fall through and re-raise\u001b[39;00m\n\u001b[0;32m   3658\u001b[0m     \u001b[38;5;66;03m#  the TypeError.\u001b[39;00m\n\u001b[0;32m   3659\u001b[0m     \u001b[38;5;28mself\u001b[39m\u001b[38;5;241m.\u001b[39m_check_indexing_error(key)\n",
      "\u001b[1;31mKeyError\u001b[0m: False"
     ]
    }
   ],
   "source": [
    "df['ID RSSD'==480228] # ID RSSD 480228 is Bank of America"
   ]
  },
  {
   "cell_type": "code",
   "execution_count": 51,
   "id": "63430e73-6925-4fea-a948-4c6be54b8351",
   "metadata": {},
   "outputs": [
    {
     "data": {
      "text/html": [
       "<div>\n",
       "<style scoped>\n",
       "    .dataframe tbody tr th:only-of-type {\n",
       "        vertical-align: middle;\n",
       "    }\n",
       "\n",
       "    .dataframe tbody tr th {\n",
       "        vertical-align: top;\n",
       "    }\n",
       "\n",
       "    .dataframe thead th {\n",
       "        text-align: right;\n",
       "    }\n",
       "</style>\n",
       "<table border=\"1\" class=\"dataframe\">\n",
       "  <thead>\n",
       "    <tr style=\"text-align: right;\">\n",
       "      <th></th>\n",
       "      <th>Reporting Period</th>\n",
       "      <th>ID RSSD</th>\n",
       "      <th>UBPR0073</th>\n",
       "      <th>UBPR0074</th>\n",
       "      <th>UBPR0083</th>\n",
       "      <th>UBPR0085</th>\n",
       "      <th>UBPR0090</th>\n",
       "      <th>UBPR0211</th>\n",
       "      <th>UBPR0426</th>\n",
       "      <th>UBPR1227</th>\n",
       "      <th>...</th>\n",
       "      <th>UBPRM278</th>\n",
       "      <th>UBPRM962</th>\n",
       "      <th>UBPRNL31</th>\n",
       "      <th>UBPRNL32</th>\n",
       "      <th>UBPRPG63</th>\n",
       "      <th>UBPRPG66</th>\n",
       "      <th>UBPRR031</th>\n",
       "      <th>UBPRR033</th>\n",
       "      <th>UBPRR035</th>\n",
       "      <th>Unnamed: 1218</th>\n",
       "    </tr>\n",
       "  </thead>\n",
       "  <tbody>\n",
       "    <tr>\n",
       "      <th>0</th>\n",
       "      <td>3/31/2020 11:59:59 PM</td>\n",
       "      <td>37</td>\n",
       "      <td>NaN</td>\n",
       "      <td>NaN</td>\n",
       "      <td>NaN</td>\n",
       "      <td>NaN</td>\n",
       "      <td>NaN</td>\n",
       "      <td>0</td>\n",
       "      <td>0</td>\n",
       "      <td>0</td>\n",
       "      <td>...</td>\n",
       "      <td>NaN</td>\n",
       "      <td>NaN</td>\n",
       "      <td>1550.0</td>\n",
       "      <td>2050.0</td>\n",
       "      <td>66.67</td>\n",
       "      <td>116</td>\n",
       "      <td>NaN</td>\n",
       "      <td>NaN</td>\n",
       "      <td>21.00</td>\n",
       "      <td>NaN</td>\n",
       "    </tr>\n",
       "    <tr>\n",
       "      <th>1</th>\n",
       "      <td>3/31/2020 11:59:59 PM</td>\n",
       "      <td>242</td>\n",
       "      <td>NaN</td>\n",
       "      <td>NaN</td>\n",
       "      <td>NaN</td>\n",
       "      <td>NaN</td>\n",
       "      <td>NaN</td>\n",
       "      <td>0</td>\n",
       "      <td>0</td>\n",
       "      <td>0</td>\n",
       "      <td>...</td>\n",
       "      <td>NaN</td>\n",
       "      <td>NaN</td>\n",
       "      <td>3424.0</td>\n",
       "      <td>4671.0</td>\n",
       "      <td>-68.42</td>\n",
       "      <td>184</td>\n",
       "      <td>NaN</td>\n",
       "      <td>NaN</td>\n",
       "      <td>12.03</td>\n",
       "      <td>NaN</td>\n",
       "    </tr>\n",
       "    <tr>\n",
       "      <th>2</th>\n",
       "      <td>3/31/2020 11:59:59 PM</td>\n",
       "      <td>279</td>\n",
       "      <td>NaN</td>\n",
       "      <td>NaN</td>\n",
       "      <td>NaN</td>\n",
       "      <td>NaN</td>\n",
       "      <td>NaN</td>\n",
       "      <td>0</td>\n",
       "      <td>776</td>\n",
       "      <td>0</td>\n",
       "      <td>...</td>\n",
       "      <td>103M</td>\n",
       "      <td>NaN</td>\n",
       "      <td>20291.0</td>\n",
       "      <td>19548.0</td>\n",
       "      <td>32.14</td>\n",
       "      <td>333</td>\n",
       "      <td>NaN</td>\n",
       "      <td>NaN</td>\n",
       "      <td>11.55</td>\n",
       "      <td>NaN</td>\n",
       "    </tr>\n",
       "    <tr>\n",
       "      <th>3</th>\n",
       "      <td>3/31/2020 11:59:59 PM</td>\n",
       "      <td>354</td>\n",
       "      <td>NaN</td>\n",
       "      <td>NaN</td>\n",
       "      <td>NaN</td>\n",
       "      <td>NaN</td>\n",
       "      <td>NaN</td>\n",
       "      <td>0</td>\n",
       "      <td>0</td>\n",
       "      <td>0</td>\n",
       "      <td>...</td>\n",
       "      <td>NaN</td>\n",
       "      <td>NaN</td>\n",
       "      <td>0.0</td>\n",
       "      <td>40.0</td>\n",
       "      <td>NaN</td>\n",
       "      <td>-33</td>\n",
       "      <td>NaN</td>\n",
       "      <td>NaN</td>\n",
       "      <td>10.28</td>\n",
       "      <td>NaN</td>\n",
       "    </tr>\n",
       "    <tr>\n",
       "      <th>4</th>\n",
       "      <td>3/31/2020 11:59:59 PM</td>\n",
       "      <td>457</td>\n",
       "      <td>NaN</td>\n",
       "      <td>NaN</td>\n",
       "      <td>NaN</td>\n",
       "      <td>NaN</td>\n",
       "      <td>NaN</td>\n",
       "      <td>0</td>\n",
       "      <td>0</td>\n",
       "      <td>0</td>\n",
       "      <td>...</td>\n",
       "      <td>NaN</td>\n",
       "      <td>NaN</td>\n",
       "      <td>5059.0</td>\n",
       "      <td>2210.0</td>\n",
       "      <td>-26.67</td>\n",
       "      <td>233</td>\n",
       "      <td>10.16</td>\n",
       "      <td>11.35</td>\n",
       "      <td>8.34</td>\n",
       "      <td>NaN</td>\n",
       "    </tr>\n",
       "  </tbody>\n",
       "</table>\n",
       "<p>5 rows × 1219 columns</p>\n",
       "</div>"
      ],
      "text/plain": [
       "        Reporting Period  ID RSSD  UBPR0073  UBPR0074  UBPR0083  UBPR0085   \n",
       "0  3/31/2020 11:59:59 PM       37       NaN       NaN       NaN       NaN  \\\n",
       "1  3/31/2020 11:59:59 PM      242       NaN       NaN       NaN       NaN   \n",
       "2  3/31/2020 11:59:59 PM      279       NaN       NaN       NaN       NaN   \n",
       "3  3/31/2020 11:59:59 PM      354       NaN       NaN       NaN       NaN   \n",
       "4  3/31/2020 11:59:59 PM      457       NaN       NaN       NaN       NaN   \n",
       "\n",
       "   UBPR0090  UBPR0211  UBPR0426  UBPR1227  ...  UBPRM278  UBPRM962  UBPRNL31   \n",
       "0       NaN         0         0         0  ...       NaN       NaN    1550.0  \\\n",
       "1       NaN         0         0         0  ...       NaN       NaN    3424.0   \n",
       "2       NaN         0       776         0  ...      103M       NaN   20291.0   \n",
       "3       NaN         0         0         0  ...       NaN       NaN       0.0   \n",
       "4       NaN         0         0         0  ...       NaN       NaN    5059.0   \n",
       "\n",
       "   UBPRNL32  UBPRPG63  UBPRPG66  UBPRR031  UBPRR033  UBPRR035  Unnamed: 1218  \n",
       "0    2050.0     66.67       116       NaN       NaN     21.00            NaN  \n",
       "1    4671.0    -68.42       184       NaN       NaN     12.03            NaN  \n",
       "2   19548.0     32.14       333       NaN       NaN     11.55            NaN  \n",
       "3      40.0       NaN       -33       NaN       NaN     10.28            NaN  \n",
       "4    2210.0    -26.67       233     10.16     11.35      8.34            NaN  \n",
       "\n",
       "[5 rows x 1219 columns]"
      ]
     },
     "execution_count": 51,
     "metadata": {},
     "output_type": "execute_result"
    }
   ],
   "source": [
    "df.head()"
   ]
  },
  {
   "cell_type": "code",
   "execution_count": 58,
   "id": "da671ff9-1aa6-45d2-85d7-8f1e129f2ccf",
   "metadata": {},
   "outputs": [
    {
     "name": "stdout",
     "output_type": "stream",
     "text": [
      "The number of rows of data is: 20411\n"
     ]
    }
   ],
   "source": [
    "row_count = len(df)\n",
    "print(f'The number of rows of data is: {row_count}')"
   ]
  },
  {
   "cell_type": "code",
   "execution_count": 53,
   "id": "f2b71a86-9e80-4071-869b-835fc3e2fef2",
   "metadata": {},
   "outputs": [
    {
     "data": {
      "text/plain": [
       "1219"
      ]
     },
     "execution_count": 53,
     "metadata": {},
     "output_type": "execute_result"
    }
   ],
   "source": [
    "len(df.columns)"
   ]
  },
  {
   "cell_type": "code",
   "execution_count": 54,
   "id": "6856c74c-5630-4306-a332-8412bd71c43e",
   "metadata": {},
   "outputs": [
    {
     "data": {
      "text/plain": [
       "dtype('float64')"
      ]
     },
     "execution_count": 54,
     "metadata": {},
     "output_type": "execute_result"
    }
   ],
   "source": [
    "df[target_column].dtype"
   ]
  },
  {
   "cell_type": "code",
   "execution_count": 55,
   "id": "61e8ba6d-b43a-42d7-b5c9-2ee898af702f",
   "metadata": {},
   "outputs": [],
   "source": [
    "# df[target_column] = df[target_column].astype('Int64')"
   ]
  },
  {
   "cell_type": "code",
   "execution_count": 59,
   "id": "8e6ca392-2bff-4b00-8524-4cc47a0040cb",
   "metadata": {},
   "outputs": [
    {
     "name": "stdout",
     "output_type": "stream",
     "text": [
      "The number of rows with non-NaN data in UBPR1763 is 3725\n"
     ]
    }
   ],
   "source": [
    "nan_count = (~np.isnan(df[target_column])).sum()\n",
    "print(f'The number of rows with non-NaN data in {target_column} is {nan_count}')"
   ]
  },
  {
   "cell_type": "code",
   "execution_count": 47,
   "id": "645b8030-7032-4f42-87da-e241616124ea",
   "metadata": {},
   "outputs": [
    {
     "data": {
      "text/plain": [
       "0    <NA>\n",
       "1    <NA>\n",
       "2    <NA>\n",
       "3    <NA>\n",
       "4    <NA>\n",
       "Name: UBPR1763, dtype: Int64"
      ]
     },
     "execution_count": 47,
     "metadata": {},
     "output_type": "execute_result"
    }
   ],
   "source": [
    "df[target_column].head()"
   ]
  },
  {
   "cell_type": "code",
   "execution_count": null,
   "id": "2ae28cac-7567-4524-b328-6092915629af",
   "metadata": {},
   "outputs": [],
   "source": []
  }
 ],
 "metadata": {
  "kernelspec": {
   "display_name": "Python 3 (ipykernel)",
   "language": "python",
   "name": "python3"
  },
  "language_info": {
   "codemirror_mode": {
    "name": "ipython",
    "version": 3
   },
   "file_extension": ".py",
   "mimetype": "text/x-python",
   "name": "python",
   "nbconvert_exporter": "python",
   "pygments_lexer": "ipython3",
   "version": "3.11.0"
  }
 },
 "nbformat": 4,
 "nbformat_minor": 5
}
