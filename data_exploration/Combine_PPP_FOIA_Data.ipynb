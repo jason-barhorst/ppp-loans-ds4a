{
 "cells": [
  {
   "attachments": {},
   "cell_type": "markdown",
   "id": "dc7a92ac",
   "metadata": {},
   "source": [
    "# PPP FOIA Data Cleaning"
   ]
  },
  {
   "attachments": {},
   "cell_type": "markdown",
   "id": "409bae69-df44-4f07-815d-6d90deda67bb",
   "metadata": {},
   "source": [
    "Data files can be downloaded from https://data.sba.gov/dataset/ppp-foia"
   ]
  },
  {
   "cell_type": "code",
   "execution_count": 1,
   "id": "f3c70b05-e042-42f5-875a-57e686ef4b23",
   "metadata": {
    "tags": []
   },
   "outputs": [
    {
     "name": "stderr",
     "output_type": "stream",
     "text": [
      "C:\\Users\\knugg\\Projects\\ppp-loans-ds4a\\.venv\\Lib\\site-packages\\tqdm\\auto.py:21: TqdmWarning: IProgress not found. Please update jupyter and ipywidgets. See https://ipywidgets.readthedocs.io/en/stable/user_install.html\n",
      "  from .autonotebook import tqdm as notebook_tqdm\n"
     ]
    }
   ],
   "source": [
    "import json\n",
    "import os\n",
    "from pathlib import Path\n",
    "\n",
    "import pandas as pd\n",
    "from tqdm import tqdm\n",
    "from ydata_profiling import ProfileReport\n",
    "import uszipcode\n",
    "\n",
    "search = uszipcode.SearchEngine()"
   ]
  },
  {
   "attachments": {},
   "cell_type": "markdown",
   "id": "ace91681",
   "metadata": {},
   "source": [
    "## Combine & Load Data\n",
    "The full data set contains over 10M items. Use nrows to reduce loaded data for faster processing during exploration if needed."
   ]
  },
  {
   "cell_type": "code",
   "execution_count": 2,
   "id": "d9ab8669",
   "metadata": {
    "tags": []
   },
   "outputs": [],
   "source": [
    "nrows = None # Integer number of rows to load from each file. Use None to read in all rows.\n",
    "data_dir = Path('../data/PPP-FOIA/')\n",
    "cleaned_data_dir = data_dir / 'cleaned'\n",
    "cleaned_data_dir.mkdir(exist_ok=True)"
   ]
  },
  {
   "cell_type": "code",
   "execution_count": 3,
   "id": "f36ffe99-7837-4369-b3cf-bd784c803534",
   "metadata": {
    "tags": []
   },
   "outputs": [
    {
     "name": "stdout",
     "output_type": "stream",
     "text": [
      "Loading 13 data files.\n"
     ]
    },
    {
     "name": "stderr",
     "output_type": "stream",
     "text": [
      "100%|███████████████████████████████████████████████████████████████████████████| 13/13 [02:14<00:00, 10.32s/it]\n"
     ]
    }
   ],
   "source": [
    "# Running this with all data uses ~9 Gb of RAM\n",
    "df = None\n",
    "low_memory = False # Allows checking entire file to decide dtypes (removes warning)\n",
    "filenames = os.listdir(data_dir)\n",
    "filenames = [f for f in filenames if f.endswith('.csv')]\n",
    "print(f'Loading {len(filenames)} data files.')\n",
    "for filename in tqdm(filenames):\n",
    "    if df is None:\n",
    "        df = pd.read_csv(data_dir / filename, nrows=nrows, low_memory=low_memory)\n",
    "    else:\n",
    "        df = pd.concat([df, pd.read_csv(data_dir / filename, nrows=nrows, low_memory=low_memory)])"
   ]
  },
  {
   "cell_type": "code",
   "execution_count": 4,
   "id": "a87031c0-69bc-4698-ab3d-53835b8cdcb6",
   "metadata": {},
   "outputs": [
    {
     "data": {
      "text/plain": [
       "4676"
      ]
     },
     "execution_count": 4,
     "metadata": {},
     "output_type": "execute_result"
    }
   ],
   "source": [
    "unique_lender = len(df.OriginatingLender.unique())\n",
    "unique_lender"
   ]
  },
  {
   "cell_type": "code",
   "execution_count": 5,
   "id": "21545716-93bb-4370-b846-33b883541f2c",
   "metadata": {},
   "outputs": [
    {
     "name": "stdout",
     "output_type": "stream",
     "text": [
      "66.05696535265773% of loans accounted for by top 100 banks\n",
      "88.72517064083296% of loans accounted for by top 1000 banks\n",
      "99.5221576767106% of loans accounted for by top 80% of banks\n"
     ]
    }
   ],
   "source": [
    "total_loans = len(df)\n",
    "top_100 = sum(df['OriginatingLender'].value_counts()[:100])\n",
    "top_1000 = sum(df['OriginatingLender'].value_counts()[:1000])\n",
    "top_half = sum(df['OriginatingLender'].value_counts()[:(int(.8*unique_lender))])\n",
    "print(f'{100*top_100/total_loans}% of loans accounted for by top 100 banks')\n",
    "print(f'{100*top_1000/total_loans}% of loans accounted for by top 1000 banks')\n",
    "print(f'{100*top_half/total_loans}% of loans accounted for by top 80% of banks')"
   ]
  },
  {
   "cell_type": "code",
   "execution_count": 6,
   "id": "d239ad58",
   "metadata": {},
   "outputs": [],
   "source": [
    "# Create a backup of full data for quick reload during exploration\n",
    "df_bu = df"
   ]
  },
  {
   "attachments": {},
   "cell_type": "markdown",
   "id": "6afb79a9-023f-4193-b2ce-aff98aa8913d",
   "metadata": {},
   "source": [
    "## Load Column Descriptions:"
   ]
  },
  {
   "cell_type": "code",
   "execution_count": 7,
   "id": "695e0c11",
   "metadata": {},
   "outputs": [],
   "source": [
    "column_names_df = pd.read_excel(data_dir / 'ppp-data-dictionary.xlsx')\n",
    "column_names_df = column_names_df.rename(columns=lambda x: x.replace(' ', ''))"
   ]
  },
  {
   "attachments": {},
   "cell_type": "markdown",
   "id": "42817db5-519c-42ba-9c3e-92177eb342f6",
   "metadata": {},
   "source": [
    "# Data Cleaning:"
   ]
  },
  {
   "attachments": {},
   "cell_type": "markdown",
   "id": "7afd1bdc-95d3-4a51-ad4b-6828d5042018",
   "metadata": {},
   "source": [
    "## Drop Columns\n",
    "List each column to drop and perform operation before moving forward"
   ]
  },
  {
   "cell_type": "code",
   "execution_count": 8,
   "id": "beecd15d-dfd7-4109-91fa-c6465f0d9f40",
   "metadata": {},
   "outputs": [],
   "source": [
    "drop_columns = [\n",
    "    'SBAOfficeCode', # Originating office. Not used\n",
    "    'ProcessingMethod', # PPP or PPS? Not used\n",
    "    'SBAGuarantyPercentage', # Every value is 100%\n",
    "    'FranchiseName', # 98.7% Missing value\n",
    "    'ServicingLenderLocationID', # Not concerned with servicing lender\n",
    "    'ServicingLenderName',\n",
    "    'ServicingLenderAddress',\n",
    "    'ServicingLenderCity',\n",
    "    'ServicingLenderState',\n",
    "    'ServicingLenderZip',\n",
    "    'HubzoneIndicator', # Not used\n",
    "    'LMIIndicator', # What is it? Not used\n",
    "    'BusinessAgeDescription', # Not used\n",
    "    'ProjectCity', # Project data. Not used\n",
    "    'ProjectCountyName',\n",
    "    'ProjectState',\n",
    "    'ProjectZip',\n",
    "    'CD', # Project Congressional District. Not used\n",
    "    'Race', # Not used\n",
    "    'Ethnicity', # Not used\n",
    "    'UTILITIES_PROCEED', # PROCEED Data not used\n",
    "    'PAYROLL_PROCEED',\n",
    "    'MORTGAGE_INTEREST_PROCEED',\n",
    "    'RENT_PROCEED',\n",
    "    'REFINANCE_EIDL_PROCEED',\n",
    "    'HEALTH_CARE_PROCEED',\n",
    "    'DEBT_INTEREST_PROCEED',\n",
    "    'OriginatingLenderLocationID', # Not used\n",
    "    'Gender', # Not used\n",
    "    'Veteran', # Not used\n",
    "    'NonProfit', # Not used    \n",
    "]"
   ]
  },
  {
   "cell_type": "code",
   "execution_count": 9,
   "id": "16adedf2-8620-4763-ac7c-d3b79ce2abfe",
   "metadata": {},
   "outputs": [
    {
     "data": {
      "text/plain": [
       "Index(['LoanNumber', 'DateApproved', 'BorrowerName', 'BorrowerAddress',\n",
       "       'BorrowerCity', 'BorrowerState', 'BorrowerZip', 'LoanStatusDate',\n",
       "       'LoanStatus', 'Term', 'InitialApprovalAmount', 'CurrentApprovalAmount',\n",
       "       'UndisbursedAmount', 'RuralUrbanIndicator', 'JobsReported', 'NAICSCode',\n",
       "       'BusinessType', 'OriginatingLender', 'OriginatingLenderCity',\n",
       "       'OriginatingLenderState', 'ForgivenessAmount', 'ForgivenessDate'],\n",
       "      dtype='object')"
      ]
     },
     "execution_count": 9,
     "metadata": {},
     "output_type": "execute_result"
    }
   ],
   "source": [
    "df = df.drop(columns=drop_columns, axis=1)\n",
    "df.columns"
   ]
  },
  {
   "attachments": {},
   "cell_type": "markdown",
   "id": "409ff7c6-eea0-4bc9-8513-d147c7889908",
   "metadata": {},
   "source": [
    "# Clean Reamining Columns:"
   ]
  },
  {
   "attachments": {},
   "cell_type": "markdown",
   "id": "8d7cc77f-da0c-4a69-b592-92cf14a02758",
   "metadata": {},
   "source": [
    "## LoanNumber\n",
    "100% distinct. No missing values. No actions required."
   ]
  },
  {
   "attachments": {},
   "cell_type": "markdown",
   "id": "726fe459-16ff-40ad-a7b8-08c1268bf055",
   "metadata": {},
   "source": [
    "## DateApproved\n",
    "No missing values. Convert to date type."
   ]
  },
  {
   "cell_type": "code",
   "execution_count": 10,
   "id": "68b6a1cb",
   "metadata": {},
   "outputs": [],
   "source": [
    "df.DateApproved = pd.to_datetime(df.DateApproved)"
   ]
  },
  {
   "attachments": {},
   "cell_type": "markdown",
   "id": "9984bf19-d867-4774-a361-6bfae241d03d",
   "metadata": {},
   "source": [
    "## BorrowerName\n",
    "58 Missing values. Reviewed the data and other fields were provided. Changing name to 'name not provided' to clear the nulls. Converting to categorical."
   ]
  },
  {
   "cell_type": "code",
   "execution_count": 11,
   "id": "47eba616-fd79-4b96-bb92-fc37c531a60f",
   "metadata": {},
   "outputs": [],
   "source": [
    "df.BorrowerName = df.BorrowerName.fillna('missing borrower name')\n",
    "df.BorrowerName = pd.Categorical(df.BorrowerName)"
   ]
  },
  {
   "cell_type": "code",
   "execution_count": 12,
   "id": "41b4e532-e7db-4609-aed1-779e989855c2",
   "metadata": {},
   "outputs": [
    {
     "data": {
      "text/html": [
       "<div>\n",
       "<style scoped>\n",
       "    .dataframe tbody tr th:only-of-type {\n",
       "        vertical-align: middle;\n",
       "    }\n",
       "\n",
       "    .dataframe tbody tr th {\n",
       "        vertical-align: top;\n",
       "    }\n",
       "\n",
       "    .dataframe thead th {\n",
       "        text-align: right;\n",
       "    }\n",
       "</style>\n",
       "<table border=\"1\" class=\"dataframe\">\n",
       "  <thead>\n",
       "    <tr style=\"text-align: right;\">\n",
       "      <th></th>\n",
       "      <th>LoanNumber</th>\n",
       "      <th>DateApproved</th>\n",
       "      <th>BorrowerName</th>\n",
       "      <th>BorrowerAddress</th>\n",
       "      <th>BorrowerCity</th>\n",
       "      <th>BorrowerState</th>\n",
       "      <th>BorrowerZip</th>\n",
       "      <th>LoanStatusDate</th>\n",
       "      <th>LoanStatus</th>\n",
       "      <th>Term</th>\n",
       "      <th>...</th>\n",
       "      <th>UndisbursedAmount</th>\n",
       "      <th>RuralUrbanIndicator</th>\n",
       "      <th>JobsReported</th>\n",
       "      <th>NAICSCode</th>\n",
       "      <th>BusinessType</th>\n",
       "      <th>OriginatingLender</th>\n",
       "      <th>OriginatingLenderCity</th>\n",
       "      <th>OriginatingLenderState</th>\n",
       "      <th>ForgivenessAmount</th>\n",
       "      <th>ForgivenessDate</th>\n",
       "    </tr>\n",
       "  </thead>\n",
       "  <tbody>\n",
       "  </tbody>\n",
       "</table>\n",
       "<p>0 rows × 22 columns</p>\n",
       "</div>"
      ],
      "text/plain": [
       "Empty DataFrame\n",
       "Columns: [LoanNumber, DateApproved, BorrowerName, BorrowerAddress, BorrowerCity, BorrowerState, BorrowerZip, LoanStatusDate, LoanStatus, Term, InitialApprovalAmount, CurrentApprovalAmount, UndisbursedAmount, RuralUrbanIndicator, JobsReported, NAICSCode, BusinessType, OriginatingLender, OriginatingLenderCity, OriginatingLenderState, ForgivenessAmount, ForgivenessDate]\n",
       "Index: []\n",
       "\n",
       "[0 rows x 22 columns]"
      ]
     },
     "execution_count": 12,
     "metadata": {},
     "output_type": "execute_result"
    }
   ],
   "source": [
    "df[df.BorrowerName.isnull()]"
   ]
  },
  {
   "attachments": {},
   "cell_type": "markdown",
   "id": "474d4e70-10bf-4d17-aa82-b80c03a10340",
   "metadata": {},
   "source": [
    "## BorrowerAddress\n",
    "214 missing values. Of these, 191 do not provide city or zip. Dropping 191 rows, filling the rest with 'missing address'"
   ]
  },
  {
   "cell_type": "code",
   "execution_count": 13,
   "id": "abbc19da",
   "metadata": {},
   "outputs": [],
   "source": [
    "df = df.dropna(subset=['BorrowerAddress', 'BorrowerCity', 'BorrowerZip'], how='all')"
   ]
  },
  {
   "cell_type": "code",
   "execution_count": 14,
   "id": "fc8a8b86-e2e1-435a-b92d-97edba034e90",
   "metadata": {},
   "outputs": [],
   "source": [
    "df.BorrowerAddress = df.BorrowerAddress.fillna('missing address')"
   ]
  },
  {
   "cell_type": "code",
   "execution_count": 15,
   "id": "3297ce61-c7cb-451b-919b-3335ad7dac39",
   "metadata": {},
   "outputs": [
    {
     "data": {
      "text/html": [
       "<div>\n",
       "<style scoped>\n",
       "    .dataframe tbody tr th:only-of-type {\n",
       "        vertical-align: middle;\n",
       "    }\n",
       "\n",
       "    .dataframe tbody tr th {\n",
       "        vertical-align: top;\n",
       "    }\n",
       "\n",
       "    .dataframe thead th {\n",
       "        text-align: right;\n",
       "    }\n",
       "</style>\n",
       "<table border=\"1\" class=\"dataframe\">\n",
       "  <thead>\n",
       "    <tr style=\"text-align: right;\">\n",
       "      <th></th>\n",
       "      <th>LoanNumber</th>\n",
       "      <th>DateApproved</th>\n",
       "      <th>BorrowerName</th>\n",
       "      <th>BorrowerAddress</th>\n",
       "      <th>BorrowerCity</th>\n",
       "      <th>BorrowerState</th>\n",
       "      <th>BorrowerZip</th>\n",
       "      <th>LoanStatusDate</th>\n",
       "      <th>LoanStatus</th>\n",
       "      <th>Term</th>\n",
       "      <th>...</th>\n",
       "      <th>UndisbursedAmount</th>\n",
       "      <th>RuralUrbanIndicator</th>\n",
       "      <th>JobsReported</th>\n",
       "      <th>NAICSCode</th>\n",
       "      <th>BusinessType</th>\n",
       "      <th>OriginatingLender</th>\n",
       "      <th>OriginatingLenderCity</th>\n",
       "      <th>OriginatingLenderState</th>\n",
       "      <th>ForgivenessAmount</th>\n",
       "      <th>ForgivenessDate</th>\n",
       "    </tr>\n",
       "  </thead>\n",
       "  <tbody>\n",
       "  </tbody>\n",
       "</table>\n",
       "<p>0 rows × 22 columns</p>\n",
       "</div>"
      ],
      "text/plain": [
       "Empty DataFrame\n",
       "Columns: [LoanNumber, DateApproved, BorrowerName, BorrowerAddress, BorrowerCity, BorrowerState, BorrowerZip, LoanStatusDate, LoanStatus, Term, InitialApprovalAmount, CurrentApprovalAmount, UndisbursedAmount, RuralUrbanIndicator, JobsReported, NAICSCode, BusinessType, OriginatingLender, OriginatingLenderCity, OriginatingLenderState, ForgivenessAmount, ForgivenessDate]\n",
       "Index: []\n",
       "\n",
       "[0 rows x 22 columns]"
      ]
     },
     "execution_count": 15,
     "metadata": {},
     "output_type": "execute_result"
    }
   ],
   "source": [
    "df[df.BorrowerAddress.isnull()]"
   ]
  },
  {
   "attachments": {},
   "cell_type": "markdown",
   "id": "bec0bb3b-f15f-4c1c-a9a9-db8f11953176",
   "metadata": {},
   "source": [
    "## BorrowerCity\n",
    "Using uszipcode library to fill in missing city. If the zip and city are not available, we do not know the location of the bank. Check for bank names."
   ]
  },
  {
   "cell_type": "code",
   "execution_count": 16,
   "id": "462f6316-d85c-4aba-95df-99b9e275242d",
   "metadata": {},
   "outputs": [],
   "source": [
    "def zip2city(zip_code):\n",
    "    if pd.isnull(zip_code):\n",
    "        return None\n",
    "    else:\n",
    "        return search.by_zipcode(zip_code).major_city"
   ]
  },
  {
   "cell_type": "code",
   "execution_count": 17,
   "id": "0ad9b317",
   "metadata": {},
   "outputs": [],
   "source": [
    "df.loc[df.BorrowerCity.isnull() ,'BorrowerCity'] = df[df.BorrowerCity.isnull()]['BorrowerZip'].apply(zip2city)"
   ]
  },
  {
   "cell_type": "code",
   "execution_count": 18,
   "id": "6f5fe337-61e6-4782-830d-9e1ae976a33f",
   "metadata": {},
   "outputs": [
    {
     "data": {
      "text/plain": [
       "0"
      ]
     },
     "execution_count": 18,
     "metadata": {},
     "output_type": "execute_result"
    }
   ],
   "source": [
    "df.BorrowerCity.isnull().sum()"
   ]
  },
  {
   "attachments": {},
   "cell_type": "markdown",
   "id": "783f805f-2f08-45fc-b799-aa389ef80b69",
   "metadata": {},
   "source": [
    "## BorrowerState\n",
    "Using uszipcode library to fill in missing states."
   ]
  },
  {
   "cell_type": "code",
   "execution_count": 19,
   "id": "fd587540-ea71-493a-bd84-64f2bf8810b4",
   "metadata": {},
   "outputs": [],
   "source": [
    "def zip2state(zip_code):\n",
    "    # Only use 5 digit zip\n",
    "    if pd.isnull(zip_code):\n",
    "        return None\n",
    "    zip_code = zip_code.split('-')[0]\n",
    "    return search.by_zipcode(zip_code).state_abbr"
   ]
  },
  {
   "cell_type": "code",
   "execution_count": 20,
   "id": "8fd1bb43-8d9d-40ae-87d9-1555fb5f877b",
   "metadata": {},
   "outputs": [],
   "source": [
    "df.loc[df.BorrowerState.isnull(), 'BorrowerState'] = df[df.BorrowerState.isnull()].BorrowerZip.apply(zip2state)"
   ]
  },
  {
   "cell_type": "code",
   "execution_count": 21,
   "id": "adace2e5-d594-4058-9c83-7931740f3477",
   "metadata": {},
   "outputs": [
    {
     "data": {
      "text/plain": [
       "0"
      ]
     },
     "execution_count": 21,
     "metadata": {},
     "output_type": "execute_result"
    }
   ],
   "source": [
    "df.BorrowerState.isnull().sum()"
   ]
  },
  {
   "attachments": {},
   "cell_type": "markdown",
   "id": "e284d0c5-1578-4220-befd-d27237fef988",
   "metadata": {},
   "source": [
    "## BorrowerZip\n",
    "5 missing values remain. Fill in with uszipcode search by city, state."
   ]
  },
  {
   "cell_type": "code",
   "execution_count": 22,
   "id": "9a285f76-a737-4736-9eb6-0bd096731878",
   "metadata": {},
   "outputs": [],
   "source": [
    "city_state_w_null_zip = list(zip(df[df.BorrowerZip.isnull()].BorrowerCity, df[df.BorrowerZip.isnull()].BorrowerState))\n",
    "# df.BorrowerZip[df.BorrowerZip.isnull()] = [search.by_city_and_state(cs[0], cs[1]) for cs in city_state_w_null_zip]\n",
    "zipcodes = [search.by_city_and_state(cs[0], cs[1])[0].zipcode for cs in city_state_w_null_zip]\n",
    "df.loc[df.BorrowerZip.isnull(), 'BorrowerZip'] = zipcodes"
   ]
  },
  {
   "cell_type": "code",
   "execution_count": 23,
   "id": "43a3bd78-8914-4308-a0f4-bad1e9b38c04",
   "metadata": {},
   "outputs": [
    {
     "data": {
      "text/plain": [
       "0"
      ]
     },
     "execution_count": 23,
     "metadata": {},
     "output_type": "execute_result"
    }
   ],
   "source": [
    "df.BorrowerZip.isnull().sum()"
   ]
  },
  {
   "cell_type": "markdown",
   "id": "c41e7293-4ed6-432b-80ef-20b2a653dbb9",
   "metadata": {},
   "source": [
    "## Loan Status Date:\n",
    "Missing 565782 values (4.9% of values). Every loan missin Loan Status Date has a Loan Status of \"Exemption 4.\" Loans considered exempt, were those whose status was protected by FOIA’s Exemption 4, which is specifically intended to protect “submitters who are required to furnish commercial or financial information to the government by safeguarding them from the competitive disadvantages that could result from disclosure.”\n",
    "\n",
    "Leaving the missing data as null"
   ]
  },
  {
   "cell_type": "code",
   "execution_count": 24,
   "id": "53b29703-abe8-464f-b3d3-7c3b8f3c1ed9",
   "metadata": {},
   "outputs": [],
   "source": [
    "# df.loc[df.LoanStatusDate.isnull(), 'LoanStatusDate'] = pd.Timestamp.now()"
   ]
  },
  {
   "cell_type": "code",
   "execution_count": 25,
   "id": "5e1e6717-88f1-4588-b8ff-1843b2434127",
   "metadata": {},
   "outputs": [
    {
     "data": {
      "text/plain": [
       "565782"
      ]
     },
     "execution_count": 25,
     "metadata": {},
     "output_type": "execute_result"
    }
   ],
   "source": [
    "df.LoanStatusDate.isnull().sum()"
   ]
  },
  {
   "cell_type": "markdown",
   "id": "bebde285-cffc-4974-8d3b-a0e0805ad893",
   "metadata": {},
   "source": [
    "## Loan Status:\n",
    "No missing values"
   ]
  },
  {
   "cell_type": "markdown",
   "id": "fb166586-64c9-4866-baef-207197e796eb",
   "metadata": {},
   "source": [
    "## Term\n",
    "No issues."
   ]
  },
  {
   "cell_type": "markdown",
   "id": "f4034ceb-e1a5-478f-92d9-67d3d087bdd5",
   "metadata": {},
   "source": [
    "## Initial Approval Amount\n",
    "20 values less than or equal to zero. Each of these loans had an amount for Current Approval Amount and had 0 for Undisbursed Amount. Setting the value of Initial Approval Amount to Current Approval Amount."
   ]
  },
  {
   "cell_type": "code",
   "execution_count": 26,
   "id": "0f70b4ce-4311-4daa-80be-27e368c51961",
   "metadata": {},
   "outputs": [],
   "source": [
    "df.loc[df.InitialApprovalAmount <= 0.0, 'InitialApprovalAmount'] = df['CurrentApprovalAmount'][df.InitialApprovalAmount <= 0.0]"
   ]
  },
  {
   "cell_type": "code",
   "execution_count": 27,
   "id": "2e937f72-6b55-49ed-a9f6-36d49fed84a1",
   "metadata": {},
   "outputs": [
    {
     "data": {
      "text/plain": [
       "0"
      ]
     },
     "execution_count": 27,
     "metadata": {},
     "output_type": "execute_result"
    }
   ],
   "source": [
    "len(df[df.InitialApprovalAmount <= 0.0])"
   ]
  },
  {
   "cell_type": "markdown",
   "id": "1dce2993-794f-4865-9e7d-b967b48c8c3c",
   "metadata": {},
   "source": [
    "## Current Approval Amount\n",
    "No missing values."
   ]
  },
  {
   "cell_type": "markdown",
   "id": "c2a83587-4094-4728-83a6-f960ee3103df",
   "metadata": {},
   "source": [
    "## Undisbursed Amount\n",
    "Missing 1171 values. 99.9% of values in this field are zero. Setting missing values to zero (already skew)."
   ]
  },
  {
   "cell_type": "code",
   "execution_count": 28,
   "id": "e3fb03b5-1524-406d-8861-3b5c20dd4dc8",
   "metadata": {},
   "outputs": [],
   "source": [
    "df.loc[df.UndisbursedAmount.isnull(), 'UndisbursedAmount'] = 0"
   ]
  },
  {
   "cell_type": "code",
   "execution_count": 29,
   "id": "f4a8f851-aae7-46d7-a619-c979a04ad917",
   "metadata": {},
   "outputs": [
    {
     "data": {
      "text/plain": [
       "0"
      ]
     },
     "execution_count": 29,
     "metadata": {},
     "output_type": "execute_result"
    }
   ],
   "source": [
    "len(df[df.UndisbursedAmount.isnull()])"
   ]
  },
  {
   "cell_type": "markdown",
   "id": "0e6572e6-1391-4aac-ae39-5400800ba432",
   "metadata": {},
   "source": [
    "## Jobs Reported\n",
    "One negative value and 8 missing. 210 Zeros (likely people not counting themselves). Setting missing / negative values to 1."
   ]
  },
  {
   "cell_type": "code",
   "execution_count": 30,
   "id": "65b1504c-5dcb-46fb-86e5-caf425e71a42",
   "metadata": {},
   "outputs": [],
   "source": [
    "df.loc[df.JobsReported.isnull(), 'JobsReported'] = 1\n",
    "df.loc[df.JobsReported < 0, 'JobsReported'] = 1"
   ]
  },
  {
   "cell_type": "markdown",
   "id": "2c1a5fb8-81f9-4a61-a932-90d2ad81f7a7",
   "metadata": {},
   "source": [
    "## NAICS Code\n",
    "Missing 132292 (1.2%) values. Converting to datatype string. Leaving null fields."
   ]
  },
  {
   "cell_type": "code",
   "execution_count": 31,
   "id": "6911d9bd-29e4-4d60-8e38-4757dfaefbf1",
   "metadata": {},
   "outputs": [],
   "source": [
    "df.NAICSCode = df.NAICSCode.astype(str)"
   ]
  },
  {
   "cell_type": "markdown",
   "id": "7ab561e8-00a2-4624-a4b2-4a87dd7a222c",
   "metadata": {},
   "source": [
    "## Business Type\n",
    "Missing 2233 values. Many business names contain \"LLC\" or \"INC\" updating these. Remaining 950 null values converted to 'Other'"
   ]
  },
  {
   "cell_type": "code",
   "execution_count": 32,
   "id": "4f01a375-5be3-4011-a25f-0f93abdc222d",
   "metadata": {},
   "outputs": [],
   "source": [
    "df.loc[df.BusinessType.isnull() & df.BorrowerName.str.contains('INC'), 'BusinessType'] = 'Corporation'\n",
    "df.loc[df.BusinessType.isnull() & df.BorrowerName.str.contains('LLC'), 'BusinessType'] = 'Limited  Liability Company(LLC)'\n",
    "df.loc[df.BusinessType.isnull(), 'BusinessType'] = 'Other / Unknown'"
   ]
  },
  {
   "cell_type": "code",
   "execution_count": 33,
   "id": "aa80cad7-7e53-46f2-831c-51b45d305823",
   "metadata": {},
   "outputs": [
    {
     "name": "stdout",
     "output_type": "stream",
     "text": [
      "0\n"
     ]
    }
   ],
   "source": [
    "print(len(df[df.BusinessType.isnull()]))"
   ]
  },
  {
   "cell_type": "markdown",
   "id": "2aaa9b4a-203d-4112-9fc8-58e641036ec3",
   "metadata": {},
   "source": [
    "## Originating Lender (Lender, City, State)\n",
    "No missing values."
   ]
  },
  {
   "cell_type": "markdown",
   "id": "440c04c9-f1fe-4b5f-b0d2-d3e6fc2a03fc",
   "metadata": {},
   "source": [
    "## Forgiveness Amount\n",
    "Missing 914809 values. Setting forgiveness amount to zero for missing values."
   ]
  },
  {
   "cell_type": "code",
   "execution_count": 34,
   "id": "68efdad0-71da-43f7-94a8-4f986831846a",
   "metadata": {},
   "outputs": [],
   "source": [
    "df.loc[df.ForgivenessAmount.isnull(), 'ForgivenessAmount'] = 0"
   ]
  },
  {
   "cell_type": "code",
   "execution_count": 35,
   "id": "a6968e0a-dc7c-4f57-8ded-9d5ad781204e",
   "metadata": {},
   "outputs": [
    {
     "name": "stdout",
     "output_type": "stream",
     "text": [
      "0\n"
     ]
    }
   ],
   "source": [
    "print(len(df[df.ForgivenessAmount.isnull()]))"
   ]
  },
  {
   "attachments": {},
   "cell_type": "markdown",
   "id": "886e1826-4887-4a3d-91ed-961ae42bbc64",
   "metadata": {},
   "source": [
    "## Export Cleaned Data (one file)"
   ]
  },
  {
   "cell_type": "code",
   "execution_count": 36,
   "id": "dc4f848a-1813-4a9e-9e27-0d2c4f8c4419",
   "metadata": {},
   "outputs": [],
   "source": [
    "df.to_csv(cleaned_data_dir / 'export.csv', index=False)"
   ]
  },
  {
   "cell_type": "markdown",
   "id": "90fffc1f-e4aa-4de1-9d68-5d44890a8d6d",
   "metadata": {},
   "source": [
    "## Generate Report"
   ]
  },
  {
   "cell_type": "code",
   "execution_count": 37,
   "id": "d25eeb02",
   "metadata": {},
   "outputs": [
    {
     "name": "stderr",
     "output_type": "stream",
     "text": [
      "Summarize dataset:  83%|███████████████████████▏    | 24/29 [06:52<00:30,  6.11s/it, Calculate auto correlation]C:\\Users\\knugg\\Projects\\ppp-loans-ds4a\\.venv\\Lib\\site-packages\\ydata_profiling\\model\\pandas\\correlations_pandas.py:84: FutureWarning: reindexing with a non-unique Index is deprecated and will raise in a future version.\n",
      "  return _cramers_corrected_stat(pd.crosstab(col_1, col_2), correction=True)\n",
      "C:\\Users\\knugg\\Projects\\ppp-loans-ds4a\\.venv\\Lib\\site-packages\\ydata_profiling\\model\\correlations.py:66: UserWarning: There was an attempt to calculate the auto correlation, but this failed.\n",
      "To hide this warning, disable the calculation\n",
      "(using `df.profile_report(correlations={\"auto\": {\"calculate\": False}})`\n",
      "If this is problematic for your use case, please report this as an issue:\n",
      "https://github.com/ydataai/ydata-profiling/issues\n",
      "(include the error message: 'cannot reindex on an axis with duplicate labels')\n",
      "  warnings.warn(\n",
      "Summarize dataset: 100%|█████████████████████████████████████████████| 96/96 [15:19<00:00,  9.58s/it, Completed]\n",
      "Generate report structure: 100%|██████████████████████████████████████████████████| 1/1 [00:16<00:00, 16.72s/it]\n",
      "Render HTML: 100%|████████████████████████████████████████████████████████████████| 1/1 [00:02<00:00,  2.26s/it]\n",
      "Export report to file: 100%|██████████████████████████████████████████████████████| 1/1 [00:00<00:00, 25.00it/s]\n"
     ]
    }
   ],
   "source": [
    "report_title = \"PPP-FOIA Data Report\"\n",
    "report_filename = Path(f\"{report_title.replace(' ', '_')}.html\")\n",
    "if not os.path.exists(report_filename):\n",
    "    profile = ProfileReport(df, title=report_title)\n",
    "    profile.to_file(report_filename)\n",
    "else:\n",
    "    print(\"Delete or rename existing report first!\")\n",
    "    print(report_filename)"
   ]
  },
  {
   "cell_type": "code",
   "execution_count": null,
   "id": "c643628d-55ca-45da-861e-f5be438e8474",
   "metadata": {},
   "outputs": [],
   "source": []
  },
  {
   "cell_type": "code",
   "execution_count": null,
   "id": "71f061c4-8a99-4356-9e37-bad014766091",
   "metadata": {},
   "outputs": [],
   "source": []
  },
  {
   "attachments": {},
   "cell_type": "markdown",
   "id": "5d612c94",
   "metadata": {},
   "source": [
    "## Transform Datatypes"
   ]
  },
  {
   "attachments": {},
   "cell_type": "markdown",
   "id": "6333dd62-9c77-4143-a3e1-2224e1c1cf57",
   "metadata": {},
   "source": [
    "dtypes can be applied when loading data. The following definition constains all columns, but requires field updates."
   ]
  },
  {
   "cell_type": "code",
   "execution_count": 38,
   "id": "61aaf5a8-4e3b-42df-bbe7-2c6da26ac385",
   "metadata": {
    "tags": []
   },
   "outputs": [],
   "source": [
    "# TODO: Select correct dtypes and apply datetime transform as needed. Once ready, use these transforms to create/load the combined file.\n",
    "dtype = {\n",
    "    'LoanNumber': int,\t                    # Loan Number (unique identifier)\n",
    "    'DateApproved': str,\t        # Loan Funded Date\n",
    "    'SBAOfficeCode': str,\t                # SBA Origination Office Code\n",
    "    'ProcessingMethod': str,\t            # Loan Delivery Method (PPP for first draw; PPS for second draw)\n",
    "    'BorrowerName': str,\t                # Borrower Name\n",
    "    'BorrowerAddress': str,\t                # Borrower Street Address\n",
    "    'BorrowerCity': str,\t                # Borrower City\n",
    "    'BorrowerState': str,\t                # Borrower State\n",
    "    'BorrowerZip': str,\t                    # Borrower Zip Code\n",
    "    'LoanStatusDate': str,   \t    # Loan Status Date - Loan Status Date is  blank when the loan is disbursed but not Paid In Full or Charged Off\n",
    "    'LoanStatus': int,\t                    # Loan Status Description - Loan Status is replaced by 'Exemption 4' when the loan is disbursed but not Paid in Full or Charged Off\n",
    "    'Term': str,\t                        # Loan Maturity in Months\n",
    "    'SBAGuarantyPercentage': str,\t        # SBA Guaranty Percentage\n",
    "    'InitialApprovalAmount': str,\t        # Loan Approval Amount(at origination)\n",
    "    'CurrentApprovalAmount': str,\t        # Loan Approval Amount (current)\n",
    "    'UndisbursedAmount': str,\t            # Undisbursed Amount\n",
    "    'FranchiseName': str,\t                # Franchise Name\n",
    "    'ServicingLenderLocationID': str,\t    # Lender Location ID (unique identifier)\n",
    "    'ServicingLenderName': str,\t            # Servicing Lender Name\n",
    "    'ServicingLenderAddress': str,\t        # Servicing Lender Street Address\n",
    "    'ServicingLenderCity': str,     \t    # Servicing Lender City\n",
    "    'ServicingLenderState': str,\t        # Servicing Lender State\n",
    "    'ServicingLenderZip': str,\t            # Servicing Lender Zip Code\n",
    "    'RuralUrbanIndicator': str,\t            # Rural or Urban Indicator (R/U)\n",
    "    'HubzoneIndicator': str,\t            # Hubzone Indicator (Y/N)\n",
    "    'LMIIndicator': str,\t                # LMI Indicator (Y/N)\n",
    "    'BusinessAgeDescription': str,\t        # Business Age Description\n",
    "    'ProjectCity': str,\t                    # Project City\n",
    "    'ProjectCountyName': str,\t            # Project County Name\n",
    "    'ProjectState': str,\t                # Project State\n",
    "    'ProjectZip': str,\t                    # Project Zip Code\n",
    "    'CD': str,\t                            # Project Congressional District\n",
    "    'JobsReported': str,\t                # Number of Employees\n",
    "    'NAICSCode': str,\t                    # NAICS 6 digit code\n",
    "    'Race': str,\t                        # Borrower Race Description\n",
    "    'Ethnicity': str,               \t    # Borrower Ethnicity Description\n",
    "    'UTILITIES_PROCEED': str,\t            # Note: Proceed data is lender reported at origination.  On the PPP application the proceeds fields were check boxes.  \n",
    "    'PAYROLL_PROCEED': str,\t                # Note: Proceed data is lender reported at origination.  On the PPP application the proceeds fields were check boxes.  \n",
    "    'MORTGAGE_INTEREST_PROCEED': str,\t    # Note: Proceed data is lender reported at origination.  On the PPP application the proceeds fields were check boxes.  \n",
    "    'RENT_PROCEED': str,\t                # Note: Proceed data is lender reported at origination.  On the PPP application the proceeds fields were check boxes.  \n",
    "    'REFINANCE_EIDL_PROCEED': str,\t        # Note: Proceed data is lender reported at origination.  On the PPP application the proceeds fields were check boxes.  \n",
    "    'HEALTH_CARE_PROCEED': str,\t            # Note: Proceed data is lender reported at origination.  On the PPP application the proceeds fields were check boxes.  \n",
    "    'DEBT_INTEREST_PROCEED': str,\t        # Note: Proceed data is lender reported at origination.  On the PPP application the proceeds fields were check boxes.  \n",
    "    'BusinessType': str,\t                # Business Type Description\n",
    "    'OriginatingLenderLocationID': str,\t    # Originating Lender ID (unique identifier)\n",
    "    'OriginatingLender': str,\t            # Originating Lender Name\n",
    "    'OriginatingLenderCity': str,\t        # Originating Lender City\n",
    "    'OriginatingLenderState': str,\t        # Originating Lender State\n",
    "    'Gender': str,\t                        # Gender Indicator\n",
    "    'Veteran': str,\t                        # Veteran Indicator\n",
    "    'NonProfit': str,\t                    # 'Yes' if Business Type = Non-Profit Organization or Non-Profit Childcare Center or 501(c) Non Profit\n",
    "    'ForgivenessAmount': str,\t            # Forgiveness Amount\n",
    "    'ForgivenessDate': str,\t                # Forgiveness Paid Date\n",
    "}"
   ]
  },
  {
   "attachments": {},
   "cell_type": "markdown",
   "id": "adb44263",
   "metadata": {},
   "source": [
    "## Validate Data (Check for Errors)"
   ]
  },
  {
   "cell_type": "code",
   "execution_count": null,
   "id": "08f3bd76-dadb-4612-bdea-0f03f334d497",
   "metadata": {},
   "outputs": [],
   "source": []
  }
 ],
 "metadata": {
  "kernelspec": {
   "display_name": "Python 3 (ipykernel)",
   "language": "python",
   "name": "python3"
  },
  "language_info": {
   "codemirror_mode": {
    "name": "ipython",
    "version": 3
   },
   "file_extension": ".py",
   "mimetype": "text/x-python",
   "name": "python",
   "nbconvert_exporter": "python",
   "pygments_lexer": "ipython3",
   "version": "3.11.4"
  }
 },
 "nbformat": 4,
 "nbformat_minor": 5
}
