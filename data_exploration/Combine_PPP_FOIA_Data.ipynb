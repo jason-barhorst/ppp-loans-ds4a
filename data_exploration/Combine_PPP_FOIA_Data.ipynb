{
 "cells": [
  {
   "cell_type": "markdown",
   "id": "dc7a92ac",
   "metadata": {},
   "source": [
    "# PPP FOIA Data Cleaning"
   ]
  },
  {
   "cell_type": "markdown",
   "id": "409bae69-df44-4f07-815d-6d90deda67bb",
   "metadata": {},
   "source": [
    "Data files can be downloaded from https://data.sba.gov/dataset/ppp-foia"
   ]
  },
  {
   "cell_type": "code",
   "execution_count": 2,
   "id": "f3c70b05-e042-42f5-875a-57e686ef4b23",
   "metadata": {
    "tags": []
   },
   "outputs": [],
   "source": [
    "import json\n",
    "import os\n",
    "import pandas as pd"
   ]
  },
  {
   "cell_type": "markdown",
   "id": "ace91681",
   "metadata": {},
   "source": [
    "## Combine & Load Data\n",
    "The full data set contains over 10M items. Use nrows to reduce loaded data for faster processing during exploration if needed."
   ]
  },
  {
   "cell_type": "code",
   "execution_count": 1,
   "id": "d9ab8669",
   "metadata": {
    "tags": []
   },
   "outputs": [],
   "source": [
    "nrows = None # Integer number of rows to load from each file. Use None to read in all rows.\n",
    "data_dir = '../data/PPP-FOIA/'"
   ]
  },
  {
   "cell_type": "code",
   "execution_count": 3,
   "id": "f36ffe99-7837-4369-b3cf-bd784c803534",
   "metadata": {
    "tags": []
   },
   "outputs": [],
   "source": [
    "# Running this with all data uses ~9 Gb of RAM\n",
    "df = None\n",
    "low_memory = False # Allows checking entire file to decide dtypes (removes warning)\n",
    "filenames = os.listdir(data_dir)\n",
    "filenames = [f for f in filenames if f.endswith('.csv')]\n",
    "for filename in filenames:\n",
    "    if df is None:\n",
    "        df = pd.read_csv(data_dir + filename, nrows=nrows, low_memory=low_memory)\n",
    "    else:\n",
    "        df = pd.concat([df, pd.read_csv(data_dir + filename, nrows=nrows, low_memory=low_memory)])\n"
   ]
  },
  {
   "cell_type": "code",
   "execution_count": 5,
   "id": "6bb85acb-5de3-45a0-b794-645bb04c61e5",
   "metadata": {},
   "outputs": [
    {
     "data": {
      "text/html": [
       "<div>\n",
       "<style scoped>\n",
       "    .dataframe tbody tr th:only-of-type {\n",
       "        vertical-align: middle;\n",
       "    }\n",
       "\n",
       "    .dataframe tbody tr th {\n",
       "        vertical-align: top;\n",
       "    }\n",
       "\n",
       "    .dataframe thead th {\n",
       "        text-align: right;\n",
       "    }\n",
       "</style>\n",
       "<table border=\"1\" class=\"dataframe\">\n",
       "  <thead>\n",
       "    <tr style=\"text-align: right;\">\n",
       "      <th></th>\n",
       "      <th>OriginatingLenderLocationID</th>\n",
       "      <th>OriginatingLender</th>\n",
       "    </tr>\n",
       "  </thead>\n",
       "  <tbody>\n",
       "    <tr>\n",
       "      <th>0</th>\n",
       "      <td>19248.0</td>\n",
       "      <td>Synovus Bank</td>\n",
       "    </tr>\n",
       "    <tr>\n",
       "      <th>1</th>\n",
       "      <td>19248.0</td>\n",
       "      <td>Synovus Bank</td>\n",
       "    </tr>\n",
       "    <tr>\n",
       "      <th>2</th>\n",
       "      <td>9551.0</td>\n",
       "      <td>Bank of America, National Association</td>\n",
       "    </tr>\n",
       "    <tr>\n",
       "      <th>3</th>\n",
       "      <td>9551.0</td>\n",
       "      <td>Bank of America, National Association</td>\n",
       "    </tr>\n",
       "    <tr>\n",
       "      <th>4</th>\n",
       "      <td>57328.0</td>\n",
       "      <td>The Huntington National Bank</td>\n",
       "    </tr>\n",
       "  </tbody>\n",
       "</table>\n",
       "</div>"
      ],
      "text/plain": [
       "   OriginatingLenderLocationID                      OriginatingLender\n",
       "0                      19248.0                           Synovus Bank\n",
       "1                      19248.0                           Synovus Bank\n",
       "2                       9551.0  Bank of America, National Association\n",
       "3                       9551.0  Bank of America, National Association\n",
       "4                      57328.0           The Huntington National Bank"
      ]
     },
     "execution_count": 5,
     "metadata": {},
     "output_type": "execute_result"
    }
   ],
   "source": [
    "df[['OriginatingLenderLocationID', 'OriginatingLender']].head()"
   ]
  },
  {
   "cell_type": "markdown",
   "id": "6afb79a9-023f-4193-b2ce-aff98aa8913d",
   "metadata": {},
   "source": [
    "## Column Descriptions:"
   ]
  },
  {
   "cell_type": "code",
   "execution_count": 4,
   "id": "695e0c11",
   "metadata": {},
   "outputs": [
    {
     "data": {
      "text/html": [
       "<div>\n",
       "<style scoped>\n",
       "    .dataframe tbody tr th:only-of-type {\n",
       "        vertical-align: middle;\n",
       "    }\n",
       "\n",
       "    .dataframe tbody tr th {\n",
       "        vertical-align: top;\n",
       "    }\n",
       "\n",
       "    .dataframe thead th {\n",
       "        text-align: right;\n",
       "    }\n",
       "</style>\n",
       "<table border=\"1\" class=\"dataframe\">\n",
       "  <thead>\n",
       "    <tr style=\"text-align: right;\">\n",
       "      <th></th>\n",
       "      <th>FieldName</th>\n",
       "      <th>FieldDescription</th>\n",
       "    </tr>\n",
       "  </thead>\n",
       "  <tbody>\n",
       "    <tr>\n",
       "      <th>0</th>\n",
       "      <td>LoanNumber</td>\n",
       "      <td>Loan Number (unique identifier)</td>\n",
       "    </tr>\n",
       "    <tr>\n",
       "      <th>1</th>\n",
       "      <td>DateApproved</td>\n",
       "      <td>Loan Funded Date</td>\n",
       "    </tr>\n",
       "    <tr>\n",
       "      <th>2</th>\n",
       "      <td>SBAOfficeCode</td>\n",
       "      <td>SBA Origination Office Code</td>\n",
       "    </tr>\n",
       "    <tr>\n",
       "      <th>3</th>\n",
       "      <td>ProcessingMethod</td>\n",
       "      <td>Loan Delivery Method (PPP for first draw; PPS ...</td>\n",
       "    </tr>\n",
       "    <tr>\n",
       "      <th>4</th>\n",
       "      <td>BorrowerName</td>\n",
       "      <td>Borrower Name</td>\n",
       "    </tr>\n",
       "  </tbody>\n",
       "</table>\n",
       "</div>"
      ],
      "text/plain": [
       "          FieldName                                   FieldDescription\n",
       "0        LoanNumber                    Loan Number (unique identifier)\n",
       "1      DateApproved                                   Loan Funded Date\n",
       "2     SBAOfficeCode                        SBA Origination Office Code\n",
       "3  ProcessingMethod  Loan Delivery Method (PPP for first draw; PPS ...\n",
       "4      BorrowerName                                      Borrower Name"
      ]
     },
     "execution_count": 4,
     "metadata": {},
     "output_type": "execute_result"
    }
   ],
   "source": [
    "column_names_df = pd.read_excel(f'{data_dir}ppp-data-dictionary.xlsx')\n",
    "column_names_df = column_names_df.rename(columns=lambda x: x.replace(' ', ''))\n",
    "column_names_df.head()"
   ]
  },
  {
   "cell_type": "markdown",
   "id": "42817db5-519c-42ba-9c3e-92177eb342f6",
   "metadata": {},
   "source": [
    "## Dat Type Consistency"
   ]
  },
  {
   "cell_type": "code",
   "execution_count": 9,
   "id": "12135312-a5c4-4824-ac00-034af280881b",
   "metadata": {},
   "outputs": [
    {
     "ename": "AttributeError",
     "evalue": "'function' object has no attribute 'sum'",
     "output_type": "error",
     "traceback": [
      "\u001b[1;31m---------------------------------------------------------------------------\u001b[0m",
      "\u001b[1;31mAttributeError\u001b[0m                            Traceback (most recent call last)",
      "Cell \u001b[1;32mIn[9], line 1\u001b[0m\n\u001b[1;32m----> 1\u001b[0m \u001b[43mdf\u001b[49m\u001b[43m[\u001b[49m\u001b[43m[\u001b[49m\u001b[38;5;124;43m'\u001b[39;49m\u001b[38;5;124;43mBorrowerAddress\u001b[39;49m\u001b[38;5;124;43m'\u001b[39;49m\u001b[43m]\u001b[49m\u001b[43m]\u001b[49m\u001b[38;5;241;43m.\u001b[39;49m\u001b[43misna\u001b[49m\u001b[38;5;241;43m.\u001b[39;49m\u001b[43msum\u001b[49m()\n",
      "\u001b[1;31mAttributeError\u001b[0m: 'function' object has no attribute 'sum'"
     ]
    }
   ],
   "source": [
    "df['BorrowerAddress'].isna.sum()"
   ]
  },
  {
   "cell_type": "code",
   "execution_count": null,
   "id": "14ee84d4-dcfa-41cb-893f-4ac50399a464",
   "metadata": {},
   "outputs": [],
   "source": []
  },
  {
   "cell_type": "code",
   "execution_count": null,
   "id": "61ecc47e-2c08-474e-a3ee-5b1746b815b1",
   "metadata": {},
   "outputs": [],
   "source": []
  },
  {
   "cell_type": "code",
   "execution_count": null,
   "id": "96cbbba5-45db-42d8-9943-8b55304bb3de",
   "metadata": {},
   "outputs": [],
   "source": []
  },
  {
   "cell_type": "code",
   "execution_count": null,
   "id": "687f6087-af91-44e2-8c0c-adb65238c08f",
   "metadata": {},
   "outputs": [],
   "source": []
  },
  {
   "cell_type": "code",
   "execution_count": null,
   "id": "d1b9667d-e207-4f49-887e-6d4552b8f784",
   "metadata": {},
   "outputs": [],
   "source": []
  },
  {
   "cell_type": "code",
   "execution_count": null,
   "id": "b19ac768-5a8a-4c35-8ed5-0545c2a47537",
   "metadata": {},
   "outputs": [],
   "source": []
  },
  {
   "cell_type": "code",
   "execution_count": null,
   "id": "4c7f46a5-7b41-4981-abc8-1f4d85d2022b",
   "metadata": {},
   "outputs": [],
   "source": []
  },
  {
   "cell_type": "code",
   "execution_count": null,
   "id": "06a253cf-2514-4528-8c37-b24430a91c12",
   "metadata": {},
   "outputs": [],
   "source": []
  },
  {
   "cell_type": "code",
   "execution_count": null,
   "id": "76c03b5c-77ba-4251-924b-51c886a3ad3a",
   "metadata": {},
   "outputs": [],
   "source": []
  },
  {
   "cell_type": "code",
   "execution_count": null,
   "id": "f5a5f260-5c64-4250-99d2-84159f987c5e",
   "metadata": {},
   "outputs": [],
   "source": []
  },
  {
   "cell_type": "code",
   "execution_count": null,
   "id": "c643628d-55ca-45da-861e-f5be438e8474",
   "metadata": {},
   "outputs": [],
   "source": []
  },
  {
   "cell_type": "code",
   "execution_count": null,
   "id": "71f061c4-8a99-4356-9e37-bad014766091",
   "metadata": {},
   "outputs": [],
   "source": []
  },
  {
   "cell_type": "markdown",
   "id": "c01d4e3a",
   "metadata": {},
   "source": [
    "## Basis Exploration"
   ]
  },
  {
   "cell_type": "code",
   "execution_count": 15,
   "id": "a54cff88-28a2-44c0-abe2-bdd8d0a0c280",
   "metadata": {
    "tags": []
   },
   "outputs": [
    {
     "data": {
      "text/plain": [
       "11460475"
      ]
     },
     "execution_count": 15,
     "metadata": {},
     "output_type": "execute_result"
    }
   ],
   "source": [
    "loan_count = len(df.LoanNumber.unique())\n",
    "loan_count"
   ]
  },
  {
   "cell_type": "code",
   "execution_count": 16,
   "id": "ab3d4132-a53e-4e9b-a111-e6ecc0cf0bf7",
   "metadata": {
    "tags": []
   },
   "outputs": [
    {
     "data": {
      "text/plain": [
       "4676"
      ]
     },
     "execution_count": 16,
     "metadata": {},
     "output_type": "execute_result"
    }
   ],
   "source": [
    "lender_count = len(df.OriginatingLender.unique())\n",
    "lender_count"
   ]
  },
  {
   "cell_type": "markdown",
   "id": "4c1c8675-61e8-44df-b436-2fcbb46df91a",
   "metadata": {},
   "source": [
    "Count the number of loans each institution made"
   ]
  },
  {
   "cell_type": "code",
   "execution_count": 17,
   "id": "5313176c",
   "metadata": {
    "tags": []
   },
   "outputs": [
    {
     "data": {
      "text/plain": [
       "OriginatingLender\n",
       "Bank of America, National Association        491035\n",
       "Cross River Bank                             478866\n",
       "Prestamos CDFI, LLC                          444781\n",
       "JPMorgan Chase Bank, National Association    438565\n",
       "Harvest Small Business Finance, LLC          408173\n",
       "Name: LoanNumber, dtype: int64"
      ]
     },
     "execution_count": 17,
     "metadata": {},
     "output_type": "execute_result"
    }
   ],
   "source": [
    "loan_counts = df.groupby('OriginatingLender').LoanNumber.count().sort_values(ascending=False).head()\n",
    "loan_counts.head()"
   ]
  },
  {
   "cell_type": "code",
   "execution_count": 18,
   "id": "cadd4d2b",
   "metadata": {
    "tags": []
   },
   "outputs": [
    {
     "name": "stdout",
     "output_type": "stream",
     "text": [
      "There are 132325 out of 11460475 loans missing the NAICS Code (1.15%)\n"
     ]
    }
   ],
   "source": [
    "missing_NAICS = df.NAICSCode.isna().sum()\n",
    "print(f'There are {missing_NAICS} out of {loan_count} loans missing the NAICS Code ({100*(missing_NAICS/loan_count):.2f}%)')"
   ]
  },
  {
   "cell_type": "markdown",
   "id": "76e6a38b",
   "metadata": {},
   "source": [
    "## Handle Missing Data"
   ]
  },
  {
   "cell_type": "markdown",
   "id": "8c0393ad",
   "metadata": {},
   "source": [
    "## Check for Duplicates"
   ]
  },
  {
   "cell_type": "code",
   "execution_count": 19,
   "id": "6df0d892-2410-4683-b00b-f8e9f9c1cf82",
   "metadata": {
    "tags": []
   },
   "outputs": [
    {
     "data": {
      "text/plain": [
       "0"
      ]
     },
     "execution_count": 19,
     "metadata": {},
     "output_type": "execute_result"
    }
   ],
   "source": [
    "df.duplicated().sum()"
   ]
  },
  {
   "cell_type": "markdown",
   "id": "4a541f7f",
   "metadata": {},
   "source": [
    "## Consider Outliers"
   ]
  },
  {
   "cell_type": "markdown",
   "id": "5d612c94",
   "metadata": {},
   "source": [
    "## Transform Datatypes"
   ]
  },
  {
   "cell_type": "markdown",
   "id": "6333dd62-9c77-4143-a3e1-2224e1c1cf57",
   "metadata": {},
   "source": [
    "dtypes can be applied when loading data. The following definition constains all columns, but requires field updates."
   ]
  },
  {
   "cell_type": "code",
   "execution_count": 20,
   "id": "61aaf5a8-4e3b-42df-bbe7-2c6da26ac385",
   "metadata": {
    "tags": []
   },
   "outputs": [],
   "source": [
    "# TODO: Select correct dtypes and apply datetime transform as needed. Once ready, use these transforms to create/load the combined file.\n",
    "dtype = {\n",
    "    'LoanNumber': int,\t                    # Loan Number (unique identifier)\n",
    "    'DateApproved': str,\t        # Loan Funded Date\n",
    "    'SBAOfficeCode': str,\t                # SBA Origination Office Code\n",
    "    'ProcessingMethod': str,\t            # Loan Delivery Method (PPP for first draw; PPS for second draw)\n",
    "    'BorrowerName': str,\t                # Borrower Name\n",
    "    'BorrowerAddress': str,\t                # Borrower Street Address\n",
    "    'BorrowerCity': str,\t                # Borrower City\n",
    "    'BorrowerState': str,\t                # Borrower State\n",
    "    'BorrowerZip': str,\t                    # Borrower Zip Code\n",
    "    'LoanStatusDate': str,   \t    # Loan Status Date - Loan Status Date is  blank when the loan is disbursed but not Paid In Full or Charged Off\n",
    "    'LoanStatus': int,\t                    # Loan Status Description - Loan Status is replaced by 'Exemption 4' when the loan is disbursed but not Paid in Full or Charged Off\n",
    "    'Term': str,\t                        # Loan Maturity in Months\n",
    "    'SBAGuarantyPercentage': str,\t        # SBA Guaranty Percentage\n",
    "    'InitialApprovalAmount': str,\t        # Loan Approval Amount(at origination)\n",
    "    'CurrentApprovalAmount': str,\t        # Loan Approval Amount (current)\n",
    "    'UndisbursedAmount': str,\t            # Undisbursed Amount\n",
    "    'FranchiseName': str,\t                # Franchise Name\n",
    "    'ServicingLenderLocationID': str,\t    # Lender Location ID (unique identifier)\n",
    "    'ServicingLenderName': str,\t            # Servicing Lender Name\n",
    "    'ServicingLenderAddress': str,\t        # Servicing Lender Street Address\n",
    "    'ServicingLenderCity': str,     \t    # Servicing Lender City\n",
    "    'ServicingLenderState': str,\t        # Servicing Lender State\n",
    "    'ServicingLenderZip': str,\t            # Servicing Lender Zip Code\n",
    "    'RuralUrbanIndicator': str,\t            # Rural or Urban Indicator (R/U)\n",
    "    'HubzoneIndicator': str,\t            # Hubzone Indicator (Y/N)\n",
    "    'LMIIndicator': str,\t                # LMI Indicator (Y/N)\n",
    "    'BusinessAgeDescription': str,\t        # Business Age Description\n",
    "    'ProjectCity': str,\t                    # Project City\n",
    "    'ProjectCountyName': str,\t            # Project County Name\n",
    "    'ProjectState': str,\t                # Project State\n",
    "    'ProjectZip': str,\t                    # Project Zip Code\n",
    "    'CD': str,\t                            # Project Congressional District\n",
    "    'JobsReported': str,\t                # Number of Employees\n",
    "    'NAICSCode': str,\t                    # NAICS 6 digit code\n",
    "    'Race': str,\t                        # Borrower Race Description\n",
    "    'Ethnicity': str,               \t    # Borrower Ethnicity Description\n",
    "    'UTILITIES_PROCEED': str,\t            # Note: Proceed data is lender reported at origination.  On the PPP application the proceeds fields were check boxes.  \n",
    "    'PAYROLL_PROCEED': str,\t                # Note: Proceed data is lender reported at origination.  On the PPP application the proceeds fields were check boxes.  \n",
    "    'MORTGAGE_INTEREST_PROCEED': str,\t    # Note: Proceed data is lender reported at origination.  On the PPP application the proceeds fields were check boxes.  \n",
    "    'RENT_PROCEED': str,\t                # Note: Proceed data is lender reported at origination.  On the PPP application the proceeds fields were check boxes.  \n",
    "    'REFINANCE_EIDL_PROCEED': str,\t        # Note: Proceed data is lender reported at origination.  On the PPP application the proceeds fields were check boxes.  \n",
    "    'HEALTH_CARE_PROCEED': str,\t            # Note: Proceed data is lender reported at origination.  On the PPP application the proceeds fields were check boxes.  \n",
    "    'DEBT_INTEREST_PROCEED': str,\t        # Note: Proceed data is lender reported at origination.  On the PPP application the proceeds fields were check boxes.  \n",
    "    'BusinessType': str,\t                # Business Type Description\n",
    "    'OriginatingLenderLocationID': str,\t    # Originating Lender ID (unique identifier)\n",
    "    'OriginatingLender': str,\t            # Originating Lender Name\n",
    "    'OriginatingLenderCity': str,\t        # Originating Lender City\n",
    "    'OriginatingLenderState': str,\t        # Originating Lender State\n",
    "    'Gender': str,\t                        # Gender Indicator\n",
    "    'Veteran': str,\t                        # Veteran Indicator\n",
    "    'NonProfit': str,\t                    # 'Yes' if Business Type = Non-Profit Organization or Non-Profit Childcare Center or 501(c) Non Profit\n",
    "    'ForgivenessAmount': str,\t            # Forgiveness Amount\n",
    "    'ForgivenessDate': str,\t                # Forgiveness Paid Date\n",
    "}"
   ]
  },
  {
   "cell_type": "markdown",
   "id": "adb44263",
   "metadata": {},
   "source": [
    "## Validate Data (Check for Errors)"
   ]
  },
  {
   "cell_type": "code",
   "execution_count": null,
   "id": "08f3bd76-dadb-4612-bdea-0f03f334d497",
   "metadata": {},
   "outputs": [],
   "source": []
  }
 ],
 "metadata": {
  "kernelspec": {
   "display_name": "Python 3 (ipykernel)",
   "language": "python",
   "name": "python3"
  },
  "language_info": {
   "codemirror_mode": {
    "name": "ipython",
    "version": 3
   },
   "file_extension": ".py",
   "mimetype": "text/x-python",
   "name": "python",
   "nbconvert_exporter": "python",
   "pygments_lexer": "ipython3",
   "version": "3.11.0"
  }
 },
 "nbformat": 4,
 "nbformat_minor": 5
}
